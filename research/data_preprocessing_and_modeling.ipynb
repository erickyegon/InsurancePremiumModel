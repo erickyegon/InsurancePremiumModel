{
    "cells": [
        {
            "cell_type": "markdown",
            "id": "a1b2c3d4",
            "metadata": {},
            "source": [
                "# Data Preprocessing and Modeling\n",
                "\n",
                "This notebook demonstrates the data preprocessing and modeling steps for the Insurance Premium Prediction project."
            ]
        },
        {
            "cell_type": "code",
            "execution_count": 1,
            "id": "581bacaf",
            "metadata": {},
            "outputs": [],
            "source": [
                "import os\n",
                "import sys\n",
                "import pandas as pd\n",
                "import numpy as np\n",
                "import matplotlib.pyplot as plt\n",
                "import seaborn as sns\n",
                "from sklearn.model_selection import train_test_split, RandomizedSearchCV\n",
                "from sklearn.preprocessing import OneHotEncoder, StandardScaler\n",
                "from sklearn.compose import ColumnTransformer\n",
                "from sklearn.pipeline import Pipeline\n",
                "from sklearn.linear_model import LinearRegression\n",
                "from sklearn.ensemble import RandomForestRegressor\n",
                "from sklearn.svm import SVR\n",
                "from sklearn.neighbors import KNeighborsRegressor\n",
                "from xgboost import XGBRegressor\n",
                "from sklearn.metrics import mean_squared_error, mean_absolute_error, r2_score\n",
                "\n",
                "# Add the parent directory to the path so we can import the package\n",
                "sys.path.append(os.path.abspath('..'))"
            ]
        },
        {
            "cell_type": "markdown",
            "id": "e1f2g3h4",
            "metadata": {},
            "source": [
                "## 1. Load the Data\n",
                "\n",
                "We'll load the insurance premium data from the Excel file."
            ]
        },
        {
            "cell_type": "code",
            "execution_count": 2,
            "id": "cb1ce961",
            "metadata": {},
            "outputs": [],
            "source": [
                "# Load the data\n",
                "data_path = '../data/premiums.xlsx'\n",
                "df = pd.read_excel(data_path)\n",
                "\n",
                "# Rename columns with spaces to use underscores\n",
                "if 'Number Of Dependants' in df.columns:\n",
                "    df = df.rename(columns={'Number Of Dependants': 'Number_Of_Dependants'})\n",
                "\n",
                "if 'Medical History' in df.columns:\n",
                "    df = df.rename(columns={'Medical History': 'Medical_History'})\n",
                "    \n",
                "# Display basic information\n",
                "print(f\"Dataset shape: {df.shape}\")\n",
                "print(f\"Columns: {df.columns.tolist()}\")"
            ]
        }
    ],
    "metadata": {
        "kernelspec": {
            "display_name": "insurance_premium_env",
            "language": "python",
            "name": "python3"
        },
        "language_info": {
            "codemirror_mode": {
                "name": "ipython",
                "version": 3
            },
            "file_extension": ".py",
            "mimetype": "text/x-python",
            "name": "python",
            "nbconvert_exporter": "python",
            "pygments_lexer": "ipython3",
            "version": "3.11.9"
        }
    },
    "nbformat": 4,
    "nbformat_minor": 5
}